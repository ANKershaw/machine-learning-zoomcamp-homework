{
 "cells": [
  {
   "metadata": {
    "ExecuteTime": {
     "end_time": "2025-10-05T20:23:15.657015Z",
     "start_time": "2025-10-05T20:23:15.655487Z"
    }
   },
   "cell_type": "code",
   "source": [
    "from IPython.core.interactiveshell import InteractiveShell\n",
    "InteractiveShell.ast_node_interactivity = \"all\""
   ],
   "id": "e26f508aa90386b6",
   "outputs": [],
   "execution_count": 1
  },
  {
   "metadata": {},
   "cell_type": "markdown",
   "source": "## Review Questions\n",
   "id": "db6e0d884c095656"
  },
  {
   "metadata": {},
   "cell_type": "markdown",
   "source": [
    "### Numpy\n",
    "\n",
    "1. How do you create an array of zero values\n",
    "2. How do you create an array of 1\n",
    "3. How do you create an array of any other number\n",
    "4. How do you create a range from 0 to 9\n",
    "5. How do you create a range from 0 to 1 with 11 values\n",
    "6. How do you create a 5x2 array of zero values\n",
    "7. How do you create a numpy array from an existing list of lists\n",
    "8. How do you generate a random 5x2 array with a seed of 42\n",
    "9. How do you generate a random 5x2 array with a seed of 42 and numbers between 3 and 30\n",
    "10. How do you multiply every element in an array by 100\n",
    "\n",
    "\n",
    "## Linear Algebra\n",
    "\n",
    "1. In linear algebra, vectors are typically ______\n",
    "2. Explain how addition between two vectors works\n",
    "3. How do you use numpy to add two vectors together\n",
    "4. What's the difference between vector multiplication in numpy and vector multiplication in linear algebra\n",
    "5. Explain how vector multiplication is performed in linear algebra\n",
    "6. Changing a column vector to a row vector or vice versa is referred to as _____\n",
    "7. How do you use numpy to multiply two vectors\n",
    "8. Explain how matrix vector multiplication is performed in linear algebra\n",
    "9. How do you use numpy to multiply a matrix and vector\n",
    "10. Explain how matrix matrix multiplication is performed in linear algebra\n",
    "11. Can you multiply a 3x3 matrix with a 2x3 matrix?\n",
    "12. How do you use numpy to multiply a matrix and matrix\n",
    "13. What is an identity matrix (I)\n",
    "14. What is special about the identity matrix in matrix matrix multiplication?\n",
    "15. How do you create an identity matrix in numpy\n",
    "16. Explain the relationship between the identity matrix, a matrix, and inverse matrix\n",
    "17. How do you notate inverse of matrix\n",
    "18. You can only inverse a ______ matrix\n",
    "19. How do you use numpy to inverse a matrix?\n",
    "20. What is the transpose of a matrix?\n",
    "21. How do you use numpy to get the transverse of a matrix?\n",
    "\n"
   ],
   "id": "b9eab8d0fceeec55"
  }
 ],
 "metadata": {
  "kernelspec": {
   "display_name": "Python 3",
   "language": "python",
   "name": "python3"
  },
  "language_info": {
   "codemirror_mode": {
    "name": "ipython",
    "version": 2
   },
   "file_extension": ".py",
   "mimetype": "text/x-python",
   "name": "python",
   "nbconvert_exporter": "python",
   "pygments_lexer": "ipython2",
   "version": "2.7.6"
  }
 },
 "nbformat": 4,
 "nbformat_minor": 5
}
