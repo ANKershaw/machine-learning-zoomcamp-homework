{
 "cells": [
  {
   "metadata": {
    "ExecuteTime": {
     "end_time": "2025-10-05T20:23:02.073472Z",
     "start_time": "2025-10-05T20:23:02.071072Z"
    }
   },
   "cell_type": "code",
   "source": [
    "from IPython.core.interactiveshell import InteractiveShell\n",
    "InteractiveShell.ast_node_interactivity = \"all\""
   ],
   "id": "8544fabbb1ea6ce9",
   "outputs": [],
   "execution_count": 4
  },
  {
   "metadata": {},
   "cell_type": "markdown",
   "source": [
    "##  Numpy\n",
    "\n",
    "To create an array of zeros or ones or any other number:"
   ],
   "id": "d8749a515495322"
  },
  {
   "metadata": {
    "ExecuteTime": {
     "end_time": "2025-10-05T20:23:21.535106Z",
     "start_time": "2025-10-05T20:23:21.531254Z"
    }
   },
   "cell_type": "code",
   "source": [
    "import numpy as np\n",
    "np.zeros(5)\n",
    "np.ones(5)\n",
    "np.full(10, 2.5) # fill with 2.5 10 times"
   ],
   "id": "96a860d4e843bb6b",
   "outputs": [
    {
     "data": {
      "text/plain": [
       "array([0., 0., 0., 0., 0.])"
      ]
     },
     "execution_count": 5,
     "metadata": {},
     "output_type": "execute_result"
    },
    {
     "data": {
      "text/plain": [
       "array([1., 1., 1., 1., 1.])"
      ]
     },
     "execution_count": 5,
     "metadata": {},
     "output_type": "execute_result"
    }
   ],
   "execution_count": 5
  },
  {
   "metadata": {},
   "cell_type": "markdown",
   "source": "To create a range:",
   "id": "b677a45e9a26e82d"
  },
  {
   "metadata": {
    "ExecuteTime": {
     "end_time": "2025-10-05T20:26:36.369218Z",
     "start_time": "2025-10-05T20:26:36.365332Z"
    }
   },
   "cell_type": "code",
   "source": "np.arange(10)",
   "id": "a6d9540437d202f5",
   "outputs": [
    {
     "data": {
      "text/plain": [
       "array([0, 1, 2, 3, 4, 5, 6, 7, 8, 9])"
      ]
     },
     "execution_count": 6,
     "metadata": {},
     "output_type": "execute_result"
    }
   ],
   "execution_count": 6
  },
  {
   "metadata": {},
   "cell_type": "markdown",
   "source": "To create an array between two numbers",
   "id": "62bc3f63efcbf613"
  },
  {
   "metadata": {
    "ExecuteTime": {
     "end_time": "2025-10-05T20:28:38.079127Z",
     "start_time": "2025-10-05T20:28:38.075264Z"
    }
   },
   "cell_type": "code",
   "source": "np.linspace(0, 1, 11)",
   "id": "6da181afc807d0e9",
   "outputs": [
    {
     "data": {
      "text/plain": [
       "array([0. , 0.1, 0.2, 0.3, 0.4, 0.5, 0.6, 0.7, 0.8, 0.9, 1. ])"
      ]
     },
     "execution_count": 7,
     "metadata": {},
     "output_type": "execute_result"
    }
   ],
   "execution_count": 7
  },
  {
   "metadata": {},
   "cell_type": "markdown",
   "source": "To create a multi-dimensional array\n",
   "id": "d32588860373ab61"
  },
  {
   "metadata": {
    "ExecuteTime": {
     "end_time": "2025-10-05T20:30:10.549669Z",
     "start_time": "2025-10-05T20:30:10.545176Z"
    }
   },
   "cell_type": "code",
   "source": "np.zeros((5,2)) # (rows,columns)",
   "id": "228853504621c5b1",
   "outputs": [
    {
     "data": {
      "text/plain": [
       "array([[0., 0.],\n",
       "       [0., 0.],\n",
       "       [0., 0.],\n",
       "       [0., 0.],\n",
       "       [0., 0.]])"
      ]
     },
     "execution_count": 8,
     "metadata": {},
     "output_type": "execute_result"
    }
   ],
   "execution_count": 8
  },
  {
   "metadata": {},
   "cell_type": "markdown",
   "source": "Create a numpy array from an existing list of lists\n",
   "id": "ed2eb7eade6644df"
  },
  {
   "metadata": {
    "ExecuteTime": {
     "end_time": "2025-10-05T20:32:34.893888Z",
     "start_time": "2025-10-05T20:32:34.889178Z"
    }
   },
   "cell_type": "code",
   "source": [
    "my_list = [[1,2,3], [4,5,6]]\n",
    "my_np_array = np.array(my_list)\n",
    "type(my_list)\n",
    "type(my_np_array)"
   ],
   "id": "81f59b8f5ec77809",
   "outputs": [
    {
     "data": {
      "text/plain": [
       "list"
      ]
     },
     "execution_count": 11,
     "metadata": {},
     "output_type": "execute_result"
    },
    {
     "data": {
      "text/plain": [
       "numpy.ndarray"
      ]
     },
     "execution_count": 11,
     "metadata": {},
     "output_type": "execute_result"
    }
   ],
   "execution_count": 11
  },
  {
   "metadata": {},
   "cell_type": "markdown",
   "source": "Generate a random array with a seed",
   "id": "d463856fcfa2defa"
  },
  {
   "metadata": {
    "ExecuteTime": {
     "end_time": "2025-10-05T20:35:19.050257Z",
     "start_time": "2025-10-05T20:35:19.046360Z"
    }
   },
   "cell_type": "code",
   "source": [
    "np.random.seed(42)\n",
    "np.random.rand(5,2)"
   ],
   "id": "c3b93a6035a8cbef",
   "outputs": [
    {
     "data": {
      "text/plain": [
       "array([[0.37454012, 0.95071431],\n",
       "       [0.73199394, 0.59865848],\n",
       "       [0.15601864, 0.15599452],\n",
       "       [0.05808361, 0.86617615],\n",
       "       [0.60111501, 0.70807258]])"
      ]
     },
     "execution_count": 13,
     "metadata": {},
     "output_type": "execute_result"
    }
   ],
   "execution_count": 13
  },
  {
   "metadata": {},
   "cell_type": "markdown",
   "source": "Multiply every element in the array by 100\n",
   "id": "59bb961dc8b3e058"
  },
  {
   "metadata": {
    "ExecuteTime": {
     "end_time": "2025-10-05T20:38:00.369421Z",
     "start_time": "2025-10-05T20:38:00.366056Z"
    }
   },
   "cell_type": "code",
   "source": "100 * np.random.rand(3,3)",
   "id": "f7f7770083770549",
   "outputs": [
    {
     "data": {
      "text/plain": [
       "array([[ 2.05844943, 96.99098522, 83.24426408],\n",
       "       [21.23391107, 18.18249672, 18.34045099],\n",
       "       [30.4242243 , 52.47564316, 43.19450186]])"
      ]
     },
     "execution_count": 14,
     "metadata": {},
     "output_type": "execute_result"
    }
   ],
   "execution_count": 14
  },
  {
   "metadata": {},
   "cell_type": "markdown",
   "source": "Specify the range of numbers for rand",
   "id": "59cfeb424ead0e1"
  },
  {
   "metadata": {
    "ExecuteTime": {
     "end_time": "2025-10-05T20:39:46.520272Z",
     "start_time": "2025-10-05T20:39:46.516491Z"
    }
   },
   "cell_type": "code",
   "source": "np.random.randint(low=0, high=5, size=(3,3))",
   "id": "e097c1b7f9bf516c",
   "outputs": [
    {
     "data": {
      "text/plain": [
       "array([[0, 2, 2],\n",
       "       [1, 3, 3],\n",
       "       [2, 3, 3]])"
      ]
     },
     "execution_count": 15,
     "metadata": {},
     "output_type": "execute_result"
    }
   ],
   "execution_count": 15
  },
  {
   "metadata": {},
   "cell_type": "markdown",
   "source": "Add two vectors together\n",
   "id": "3b16b461f66308c7"
  },
  {
   "metadata": {
    "ExecuteTime": {
     "end_time": "2025-10-05T20:53:26.478814Z",
     "start_time": "2025-10-05T20:53:26.475068Z"
    }
   },
   "cell_type": "code",
   "source": [
    "a = np.array([1,2,3])\n",
    "b = np.array([4,5,6])\n",
    "a + b"
   ],
   "id": "a3fa008175adbcfa",
   "outputs": [
    {
     "data": {
      "text/plain": [
       "array([5, 7, 9])"
      ]
     },
     "execution_count": 17,
     "metadata": {},
     "output_type": "execute_result"
    }
   ],
   "execution_count": 17
  },
  {
   "metadata": {},
   "cell_type": "markdown",
   "source": "Multiply two vectors together",
   "id": "901b5e43e030174d"
  },
  {
   "metadata": {
    "ExecuteTime": {
     "end_time": "2025-10-05T20:59:12.150012Z",
     "start_time": "2025-10-05T20:59:12.146229Z"
    }
   },
   "cell_type": "code",
   "source": "a.dot(b)",
   "id": "8100ed0c33fe25b9",
   "outputs": [
    {
     "data": {
      "text/plain": [
       "np.int64(32)"
      ]
     },
     "execution_count": 18,
     "metadata": {},
     "output_type": "execute_result"
    }
   ],
   "execution_count": 18
  },
  {
   "metadata": {},
   "cell_type": "markdown",
   "source": "Multiply a matrix and vector together\n",
   "id": "244fdfe78e127820"
  },
  {
   "metadata": {
    "ExecuteTime": {
     "end_time": "2025-10-05T21:07:58.022091Z",
     "start_time": "2025-10-05T21:07:58.017039Z"
    }
   },
   "cell_type": "code",
   "source": [
    "c = np.random.randint(low=0, high=5, size=(3,3))\n",
    "print(c)\n",
    "c.dot(a)"
   ],
   "id": "2c5f5d58fde1828d",
   "outputs": [
    {
     "name": "stdout",
     "output_type": "stream",
     "text": [
      "[[3 0 4]\n",
      " [4 1 4]\n",
      " [1 0 3]]\n"
     ]
    },
    {
     "data": {
      "text/plain": [
       "array([15, 18, 10])"
      ]
     },
     "execution_count": 23,
     "metadata": {},
     "output_type": "execute_result"
    }
   ],
   "execution_count": 23
  },
  {
   "metadata": {},
   "cell_type": "markdown",
   "source": "Multiply a matrix and vector together",
   "id": "758de449d35ef3b0"
  },
  {
   "metadata": {
    "ExecuteTime": {
     "end_time": "2025-10-05T21:20:02.042719Z",
     "start_time": "2025-10-05T21:20:02.040090Z"
    }
   },
   "cell_type": "code",
   "source": [
    "d = np.random.randint(low=10, high=13, size=(3,3))\n",
    "print(d)\n",
    "print(c.dot(d))"
   ],
   "id": "3d77e2e46e469894",
   "outputs": [
    {
     "name": "stdout",
     "output_type": "stream",
     "text": [
      "[[10 11 12]\n",
      " [11 10 12]\n",
      " [10 11 10]]\n",
      "[[ 70  77  76]\n",
      " [ 91  98 100]\n",
      " [ 40  44  42]]\n"
     ]
    }
   ],
   "execution_count": 26
  },
  {
   "metadata": {},
   "cell_type": "markdown",
   "source": "Create an identity matrix\n",
   "id": "777847523522fdb7"
  },
  {
   "metadata": {
    "ExecuteTime": {
     "end_time": "2025-10-05T21:28:30.733163Z",
     "start_time": "2025-10-05T21:28:30.730833Z"
    }
   },
   "cell_type": "code",
   "source": [
    "I = np.eye(3)\n",
    "print(I)\n",
    "print(d.dot(I))"
   ],
   "id": "31962af67e41e224",
   "outputs": [
    {
     "name": "stdout",
     "output_type": "stream",
     "text": [
      "[[1. 0. 0.]\n",
      " [0. 1. 0.]\n",
      " [0. 0. 1.]]\n",
      "[[10. 11. 12.]\n",
      " [11. 10. 12.]\n",
      " [10. 11. 10.]]\n"
     ]
    }
   ],
   "execution_count": 36
  },
  {
   "metadata": {},
   "cell_type": "markdown",
   "source": "Get the inverse of a matrix",
   "id": "9f5ae5a9fb663a6b"
  },
  {
   "metadata": {
    "ExecuteTime": {
     "end_time": "2025-10-05T21:33:45.507871Z",
     "start_time": "2025-10-05T21:33:45.504290Z"
    }
   },
   "cell_type": "code",
   "source": [
    "d_inv = np.linalg.inv(d)\n",
    "print(d_inv)\n",
    "print(d_inv.dot(d))"
   ],
   "id": "297e8707fead64d3",
   "outputs": [
    {
     "name": "stdout",
     "output_type": "stream",
     "text": [
      "[[-0.76190476  0.52380952  0.28571429]\n",
      " [ 0.23809524 -0.47619048  0.28571429]\n",
      " [ 0.5        -0.         -0.5       ]]\n",
      "[[ 1.00000000e+00  3.88578059e-16 -3.33066907e-16]\n",
      " [ 0.00000000e+00  1.00000000e+00  0.00000000e+00]\n",
      " [ 0.00000000e+00  0.00000000e+00  1.00000000e+00]]\n"
     ]
    }
   ],
   "execution_count": 39
  },
  {
   "metadata": {},
   "cell_type": "markdown",
   "source": "Transpose a matrix",
   "id": "338bdbc1d2aa986f"
  },
  {
   "metadata": {
    "ExecuteTime": {
     "end_time": "2025-10-06T01:42:41.136788Z",
     "start_time": "2025-10-06T01:42:41.133519Z"
    }
   },
   "cell_type": "code",
   "source": [
    "dT = d.T\n",
    "print(d)\n",
    "print(dT)"
   ],
   "id": "73f31ac7947fb471",
   "outputs": [
    {
     "name": "stdout",
     "output_type": "stream",
     "text": [
      "[[10 11 12]\n",
      " [11 10 12]\n",
      " [10 11 10]]\n",
      "[[10 11 10]\n",
      " [11 10 11]\n",
      " [12 12 10]]\n"
     ]
    }
   ],
   "execution_count": 41
  }
 ],
 "metadata": {
  "kernelspec": {
   "display_name": "Python 3",
   "language": "python",
   "name": "python3"
  },
  "language_info": {
   "codemirror_mode": {
    "name": "ipython",
    "version": 2
   },
   "file_extension": ".py",
   "mimetype": "text/x-python",
   "name": "python",
   "nbconvert_exporter": "python",
   "pygments_lexer": "ipython2",
   "version": "2.7.6"
  }
 },
 "nbformat": 4,
 "nbformat_minor": 5
}
