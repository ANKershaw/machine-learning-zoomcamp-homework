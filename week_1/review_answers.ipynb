{
 "cells": [
  {
   "metadata": {},
   "cell_type": "markdown",
   "source": "## Review Answers",
   "id": "dc28220cd27194c"
  },
  {
   "metadata": {},
   "cell_type": "markdown",
   "source": [
    "## Numpy\n",
    "\n",
    "See notes.ipynb for the answers\n",
    "\n",
    "## Linear Algebra\n",
    "\n",
    "1. In linear algebra, vectors are typically columns\n",
    "2. Two vectors are added together by adding the values in the respective rows together, eg: [0] + [0], [1] + [1], etc. The result is a vector itself.\n",
    "3. See _Add two vectors together_\n",
    "4. In numpy, multiplication is element-wise. You are left with an array. In linear algebra, you multiply element-wise and then add everything, resulting in a single number.\n",
    "5. a) element-wise multiplication, so v[0] * v1[0] + v[1] * v1[1] + ... b) add up all the numbers. The result is a single number.\n",
    "6. Transposing\n",
    "7. See _Multiply to vectors together_\n",
    "8. Perform vector multiplication on each row of the matrix with the corresponding vector index. v[0]*m[0] + v[0]*m[1] + ..(next row in the vector) v[1]*m[0] + v[1]*m[2] etc. The result is a vector.\n",
    "9. See _Multiply a matrix and vector together_\n",
    "10. Break the vector up into columns. For each column in the vector, we're going to perform vector matrix multiplication and store the result. The result is a matrix.\n",
    "11. No. The matrices must be of the same dimensions.\n",
    "12. See _Multiply a matrix and vector together_\n",
    "13. A square matrix with 1's on the diagonal\n",
    "14. I * U = U for any matrix U\n",
    "15. See _Create an identity matrix_\n",
    "16. Any matrix * inverse of that matrix = identity matrix\n",
    "17. X<sup>-1</sup>\n",
    "18. square eg: 3x3, 4x4, etc\n",
    "19. See _Get the inverse of a matrix_\n",
    "20. The transpose of a matrix is a new matrix created by swapping the rows and columns of the original matrix. This is done by changing the element at row i and column j in the original matrix to the position [j][i] in the transposed matrix. The notation for the transpose of a matrix 'A' is often A^T, A', or A~.\n",
    "21. See _Transpose a matrix_"
   ],
   "id": "c3afb5830e94cce8"
  }
 ],
 "metadata": {
  "kernelspec": {
   "display_name": "Python 3",
   "language": "python",
   "name": "python3"
  },
  "language_info": {
   "codemirror_mode": {
    "name": "ipython",
    "version": 2
   },
   "file_extension": ".py",
   "mimetype": "text/x-python",
   "name": "python",
   "nbconvert_exporter": "python",
   "pygments_lexer": "ipython2",
   "version": "2.7.6"
  }
 },
 "nbformat": 4,
 "nbformat_minor": 5
}
