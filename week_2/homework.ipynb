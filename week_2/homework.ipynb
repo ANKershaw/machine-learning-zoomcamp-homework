{
 "cells": [
  {
   "metadata": {
    "ExecuteTime": {
     "end_time": "2025-10-03T19:50:22.447467Z",
     "start_time": "2025-10-03T19:50:22.445539Z"
    }
   },
   "cell_type": "code",
   "source": [
    "from IPython.core.interactiveshell import InteractiveShell\n",
    "InteractiveShell.ast_node_interactivity = \"all\""
   ],
   "id": "53db1eab14c94b8",
   "outputs": [],
   "execution_count": 28
  },
  {
   "metadata": {},
   "cell_type": "markdown",
   "source": [
    "## Homework\n",
    "\n",
    "> Note: sometimes your answer doesn't match one of\n",
    "> the options exactly. That's fine.\n",
    "> Select the option that's closest to your solution.\n",
    "\n",
    "### Dataset\n",
    "\n",
    "For this homework, we'll use the Car Fuel Efficiency dataset. Download it from <a href='https://raw.githubusercontent.com/alexeygrigorev/datasets/master/car_fuel_efficiency.csv'>here</a>.\n",
    "\n",
    "You can do it with wget:\n",
    "```bash\n",
    "wget https://raw.githubusercontent.com/alexeygrigorev/datasets/master/car_fuel_efficiency.csv\n",
    "```"
   ],
   "id": "cb50cf6d0145ab65"
  },
  {
   "metadata": {
    "ExecuteTime": {
     "end_time": "2025-10-03T19:34:13.325814Z",
     "start_time": "2025-10-03T19:34:13.323869Z"
    }
   },
   "cell_type": "code",
   "source": [
    "import pandas as pd\n",
    "import numpy as np\n",
    "import seaborn as sns\n"
   ],
   "id": "15fbf3becb161dba",
   "outputs": [],
   "execution_count": 20
  },
  {
   "metadata": {
    "ExecuteTime": {
     "end_time": "2025-10-03T19:34:15.045180Z",
     "start_time": "2025-10-03T19:34:14.791067Z"
    }
   },
   "cell_type": "code",
   "source": [
    "data = pd.read_csv('https://raw.githubusercontent.com/alexeygrigorev/datasets/master/car_fuel_efficiency.csv')\n",
    "data.head()\n"
   ],
   "id": "7be1365496c41f69",
   "outputs": [
    {
     "data": {
      "text/plain": [
       "   engine_displacement  num_cylinders  horsepower  vehicle_weight  \\\n",
       "0                  170            3.0       159.0     3413.433759   \n",
       "1                  130            5.0        97.0     3149.664934   \n",
       "2                  170            NaN        78.0     3079.038997   \n",
       "3                  220            4.0         NaN     2542.392402   \n",
       "4                  210            1.0       140.0     3460.870990   \n",
       "\n",
       "   acceleration  model_year  origin fuel_type         drivetrain  num_doors  \\\n",
       "0          17.7        2003  Europe  Gasoline    All-wheel drive        0.0   \n",
       "1          17.8        2007     USA  Gasoline  Front-wheel drive        0.0   \n",
       "2          15.1        2018  Europe  Gasoline  Front-wheel drive        0.0   \n",
       "3          20.2        2009     USA    Diesel    All-wheel drive        2.0   \n",
       "4          14.4        2009  Europe  Gasoline    All-wheel drive        2.0   \n",
       "\n",
       "   fuel_efficiency_mpg  \n",
       "0            13.231729  \n",
       "1            13.688217  \n",
       "2            14.246341  \n",
       "3            16.912736  \n",
       "4            12.488369  "
      ],
      "text/html": [
       "<div>\n",
       "<style scoped>\n",
       "    .dataframe tbody tr th:only-of-type {\n",
       "        vertical-align: middle;\n",
       "    }\n",
       "\n",
       "    .dataframe tbody tr th {\n",
       "        vertical-align: top;\n",
       "    }\n",
       "\n",
       "    .dataframe thead th {\n",
       "        text-align: right;\n",
       "    }\n",
       "</style>\n",
       "<table border=\"1\" class=\"dataframe\">\n",
       "  <thead>\n",
       "    <tr style=\"text-align: right;\">\n",
       "      <th></th>\n",
       "      <th>engine_displacement</th>\n",
       "      <th>num_cylinders</th>\n",
       "      <th>horsepower</th>\n",
       "      <th>vehicle_weight</th>\n",
       "      <th>acceleration</th>\n",
       "      <th>model_year</th>\n",
       "      <th>origin</th>\n",
       "      <th>fuel_type</th>\n",
       "      <th>drivetrain</th>\n",
       "      <th>num_doors</th>\n",
       "      <th>fuel_efficiency_mpg</th>\n",
       "    </tr>\n",
       "  </thead>\n",
       "  <tbody>\n",
       "    <tr>\n",
       "      <th>0</th>\n",
       "      <td>170</td>\n",
       "      <td>3.0</td>\n",
       "      <td>159.0</td>\n",
       "      <td>3413.433759</td>\n",
       "      <td>17.7</td>\n",
       "      <td>2003</td>\n",
       "      <td>Europe</td>\n",
       "      <td>Gasoline</td>\n",
       "      <td>All-wheel drive</td>\n",
       "      <td>0.0</td>\n",
       "      <td>13.231729</td>\n",
       "    </tr>\n",
       "    <tr>\n",
       "      <th>1</th>\n",
       "      <td>130</td>\n",
       "      <td>5.0</td>\n",
       "      <td>97.0</td>\n",
       "      <td>3149.664934</td>\n",
       "      <td>17.8</td>\n",
       "      <td>2007</td>\n",
       "      <td>USA</td>\n",
       "      <td>Gasoline</td>\n",
       "      <td>Front-wheel drive</td>\n",
       "      <td>0.0</td>\n",
       "      <td>13.688217</td>\n",
       "    </tr>\n",
       "    <tr>\n",
       "      <th>2</th>\n",
       "      <td>170</td>\n",
       "      <td>NaN</td>\n",
       "      <td>78.0</td>\n",
       "      <td>3079.038997</td>\n",
       "      <td>15.1</td>\n",
       "      <td>2018</td>\n",
       "      <td>Europe</td>\n",
       "      <td>Gasoline</td>\n",
       "      <td>Front-wheel drive</td>\n",
       "      <td>0.0</td>\n",
       "      <td>14.246341</td>\n",
       "    </tr>\n",
       "    <tr>\n",
       "      <th>3</th>\n",
       "      <td>220</td>\n",
       "      <td>4.0</td>\n",
       "      <td>NaN</td>\n",
       "      <td>2542.392402</td>\n",
       "      <td>20.2</td>\n",
       "      <td>2009</td>\n",
       "      <td>USA</td>\n",
       "      <td>Diesel</td>\n",
       "      <td>All-wheel drive</td>\n",
       "      <td>2.0</td>\n",
       "      <td>16.912736</td>\n",
       "    </tr>\n",
       "    <tr>\n",
       "      <th>4</th>\n",
       "      <td>210</td>\n",
       "      <td>1.0</td>\n",
       "      <td>140.0</td>\n",
       "      <td>3460.870990</td>\n",
       "      <td>14.4</td>\n",
       "      <td>2009</td>\n",
       "      <td>Europe</td>\n",
       "      <td>Gasoline</td>\n",
       "      <td>All-wheel drive</td>\n",
       "      <td>2.0</td>\n",
       "      <td>12.488369</td>\n",
       "    </tr>\n",
       "  </tbody>\n",
       "</table>\n",
       "</div>"
      ]
     },
     "execution_count": 21,
     "metadata": {},
     "output_type": "execute_result"
    }
   ],
   "execution_count": 21
  },
  {
   "metadata": {},
   "cell_type": "markdown",
   "source": [
    "\n",
    "The goal of this homework is to create a regression model for predicting the car fuel efficiency (column `'fuel_efficiency_mpg'`).\n",
    "\n",
    "### Preparing the dataset\n",
    "\n",
    "Use only the following columns:\n",
    "\n",
    "* `'engine_displacement'`,\n",
    "* `'horsepower'`,\n",
    "* `'vehicle_weight'`,\n",
    "* `'model_year'`,\n",
    "* `'fuel_efficiency_mpg'`"
   ],
   "id": "f7e96f9d77946eb2"
  },
  {
   "metadata": {
    "ExecuteTime": {
     "end_time": "2025-10-03T19:34:17.972695Z",
     "start_time": "2025-10-03T19:34:17.969608Z"
    }
   },
   "cell_type": "code",
   "source": [
    "data = data[['engine_displacement', 'horsepower', 'vehicle_weight', 'model_year', 'fuel_efficiency_mpg']]\n",
    "data.columns"
   ],
   "id": "e87b3a818e1604f4",
   "outputs": [
    {
     "data": {
      "text/plain": [
       "Index(['engine_displacement', 'horsepower', 'vehicle_weight', 'model_year',\n",
       "       'fuel_efficiency_mpg'],\n",
       "      dtype='object')"
      ]
     },
     "execution_count": 22,
     "metadata": {},
     "output_type": "execute_result"
    }
   ],
   "execution_count": 22
  },
  {
   "metadata": {},
   "cell_type": "markdown",
   "source": [
    "\n",
    "### EDA\n",
    "\n",
    "* Look at the `fuel_efficiency_mpg` variable. Does it have a long tail?"
   ],
   "id": "67cb54258695d776"
  },
  {
   "metadata": {},
   "cell_type": "markdown",
   "source": [
    "\n",
    "### Question 1\n",
    "\n",
    "There's one column with missing values. What is it?\n",
    "\n",
    "* `'engine_displacement'`\n",
    "* `'horsepower'`\n",
    "* `'vehicle_weight'`\n",
    "* `'model_year'`\n"
   ],
   "id": "d48f08587edd2829"
  },
  {
   "metadata": {
    "ExecuteTime": {
     "end_time": "2025-10-03T19:34:20.483206Z",
     "start_time": "2025-10-03T19:34:20.479693Z"
    }
   },
   "cell_type": "code",
   "source": "data.isnull().sum()",
   "id": "f8db0ccf0ba565a8",
   "outputs": [
    {
     "data": {
      "text/plain": [
       "engine_displacement      0\n",
       "horsepower             708\n",
       "vehicle_weight           0\n",
       "model_year               0\n",
       "fuel_efficiency_mpg      0\n",
       "dtype: int64"
      ]
     },
     "execution_count": 23,
     "metadata": {},
     "output_type": "execute_result"
    }
   ],
   "execution_count": 23
  },
  {
   "metadata": {},
   "cell_type": "markdown",
   "source": [
    "\n",
    "### Question 2\n",
    "\n",
    "What's the median (50% percentile) for variable `'horsepower'`?\n",
    "\n",
    "- 49\n",
    "- 99\n",
    "- 149\n",
    "- 199"
   ],
   "id": "1ab1edf8db7975fd"
  },
  {
   "metadata": {
    "ExecuteTime": {
     "end_time": "2025-10-03T19:34:23.167016Z",
     "start_time": "2025-10-03T19:34:23.163353Z"
    }
   },
   "cell_type": "code",
   "source": "data['horsepower'].median()",
   "id": "491dd4df7a39f936",
   "outputs": [
    {
     "data": {
      "text/plain": [
       "149.0"
      ]
     },
     "execution_count": 24,
     "metadata": {},
     "output_type": "execute_result"
    }
   ],
   "execution_count": 24
  },
  {
   "metadata": {},
   "cell_type": "markdown",
   "source": [
    "\n",
    "### Prepare and split the dataset\n",
    "\n",
    "* Shuffle the dataset (the filtered one you created above), use seed `42`."
   ],
   "id": "2e468b155fa90a58"
  },
  {
   "metadata": {
    "ExecuteTime": {
     "end_time": "2025-10-03T19:34:30.002151Z",
     "start_time": "2025-10-03T19:34:29.999570Z"
    }
   },
   "cell_type": "code",
   "source": [
    "# create the index and shuffle it\n",
    "\n",
    "idx = np.arange(len(data))\n",
    "np.random.seed(42)\n",
    "np.random.shuffle(idx)\n",
    "\n",
    "\n",
    "#"
   ],
   "id": "91ac579f8ae3b781",
   "outputs": [],
   "execution_count": 25
  },
  {
   "metadata": {},
   "cell_type": "markdown",
   "source": [
    "\n",
    "* Split your data in train/val/test sets, with 60%/20%/20% distribution.\n"
   ],
   "id": "64101980e59f51b4"
  },
  {
   "metadata": {
    "ExecuteTime": {
     "end_time": "2025-10-03T19:53:33.493225Z",
     "start_time": "2025-10-03T19:53:33.489614Z"
    }
   },
   "cell_type": "code",
   "source": [
    "n = len(data)\n",
    "n_val = int(n * .2)\n",
    "n_test = int(n * .2)\n",
    "n_train = n - n_val - n_test\n",
    "\n",
    "print(f'train size: {n_train}, val and test: {n_val}, {n_test}, total: {n}, sum check: {n_train + n_val + n_test}')\n",
    "print(f'index check: 0:{n_train}, {n_train}:{n_train+n_val}, {n_train+n_val}:end')\n"
   ],
   "id": "d62dd4e676dc7287",
   "outputs": [
    {
     "name": "stdout",
     "output_type": "stream",
     "text": [
      "train size: 5824, val and test: 1940, 1940, total: 9704, sum check: 9704\n",
      "index check: 0:5824, 5824:7764, 7764:end\n"
     ]
    }
   ],
   "execution_count": 31
  },
  {
   "metadata": {
    "ExecuteTime": {
     "end_time": "2025-10-03T19:56:53.775079Z",
     "start_time": "2025-10-03T19:56:53.768599Z"
    }
   },
   "cell_type": "code",
   "source": [
    "df_train = data.iloc[idx[:n_train]]\n",
    "df_val = data.iloc[idx[n_train:n_train+n_val]]\n",
    "df_test = data.iloc[idx[n_train+n_val:]]\n",
    "\n",
    "df_train.head()\n",
    "idx[:5]"
   ],
   "id": "1b25d3a338be5bf1",
   "outputs": [
    {
     "data": {
      "text/plain": [
       "      engine_displacement  horsepower  vehicle_weight  model_year  \\\n",
       "483                   220       144.0     2535.887591        2009   \n",
       "7506                  160       141.0     2741.170484        2019   \n",
       "8795                  230       155.0     2471.880237        2017   \n",
       "1688                  150       206.0     3748.164469        2015   \n",
       "6217                  300       111.0     2135.716359        2006   \n",
       "\n",
       "      fuel_efficiency_mpg  \n",
       "483             16.642943  \n",
       "7506            16.298377  \n",
       "8795            18.591822  \n",
       "1688            11.818843  \n",
       "6217            19.402209  "
      ],
      "text/html": [
       "<div>\n",
       "<style scoped>\n",
       "    .dataframe tbody tr th:only-of-type {\n",
       "        vertical-align: middle;\n",
       "    }\n",
       "\n",
       "    .dataframe tbody tr th {\n",
       "        vertical-align: top;\n",
       "    }\n",
       "\n",
       "    .dataframe thead th {\n",
       "        text-align: right;\n",
       "    }\n",
       "</style>\n",
       "<table border=\"1\" class=\"dataframe\">\n",
       "  <thead>\n",
       "    <tr style=\"text-align: right;\">\n",
       "      <th></th>\n",
       "      <th>engine_displacement</th>\n",
       "      <th>horsepower</th>\n",
       "      <th>vehicle_weight</th>\n",
       "      <th>model_year</th>\n",
       "      <th>fuel_efficiency_mpg</th>\n",
       "    </tr>\n",
       "  </thead>\n",
       "  <tbody>\n",
       "    <tr>\n",
       "      <th>483</th>\n",
       "      <td>220</td>\n",
       "      <td>144.0</td>\n",
       "      <td>2535.887591</td>\n",
       "      <td>2009</td>\n",
       "      <td>16.642943</td>\n",
       "    </tr>\n",
       "    <tr>\n",
       "      <th>7506</th>\n",
       "      <td>160</td>\n",
       "      <td>141.0</td>\n",
       "      <td>2741.170484</td>\n",
       "      <td>2019</td>\n",
       "      <td>16.298377</td>\n",
       "    </tr>\n",
       "    <tr>\n",
       "      <th>8795</th>\n",
       "      <td>230</td>\n",
       "      <td>155.0</td>\n",
       "      <td>2471.880237</td>\n",
       "      <td>2017</td>\n",
       "      <td>18.591822</td>\n",
       "    </tr>\n",
       "    <tr>\n",
       "      <th>1688</th>\n",
       "      <td>150</td>\n",
       "      <td>206.0</td>\n",
       "      <td>3748.164469</td>\n",
       "      <td>2015</td>\n",
       "      <td>11.818843</td>\n",
       "    </tr>\n",
       "    <tr>\n",
       "      <th>6217</th>\n",
       "      <td>300</td>\n",
       "      <td>111.0</td>\n",
       "      <td>2135.716359</td>\n",
       "      <td>2006</td>\n",
       "      <td>19.402209</td>\n",
       "    </tr>\n",
       "  </tbody>\n",
       "</table>\n",
       "</div>"
      ]
     },
     "execution_count": 34,
     "metadata": {},
     "output_type": "execute_result"
    },
    {
     "data": {
      "text/plain": [
       "array([ 483, 7506, 8795, 1688, 6217])"
      ]
     },
     "execution_count": 34,
     "metadata": {},
     "output_type": "execute_result"
    }
   ],
   "execution_count": 34
  },
  {
   "metadata": {
    "ExecuteTime": {
     "end_time": "2025-10-03T19:59:06.435614Z",
     "start_time": "2025-10-03T19:59:06.429348Z"
    }
   },
   "cell_type": "code",
   "source": [
    "df_train = df_train.reset_index(drop=True)\n",
    "df_val = df_val.reset_index(drop=True)\n",
    "df_test = df_test.reset_index(drop=True)\n",
    "\n",
    "\n",
    "df_test.head()"
   ],
   "id": "4b48d5e618926336",
   "outputs": [
    {
     "data": {
      "text/plain": [
       "   engine_displacement  horsepower  vehicle_weight  model_year  \\\n",
       "0                  140       148.0     2704.826005        2017   \n",
       "1                  210       136.0     3001.227490        2004   \n",
       "2                  210       152.0     3747.467392        2021   \n",
       "3                  190       128.0     2705.833636        2014   \n",
       "4                  230       156.0     2505.939657        2005   \n",
       "\n",
       "   fuel_efficiency_mpg  \n",
       "0            15.804354  \n",
       "1            14.272374  \n",
       "2            11.748441  \n",
       "3            16.485991  \n",
       "4            17.779704  "
      ],
      "text/html": [
       "<div>\n",
       "<style scoped>\n",
       "    .dataframe tbody tr th:only-of-type {\n",
       "        vertical-align: middle;\n",
       "    }\n",
       "\n",
       "    .dataframe tbody tr th {\n",
       "        vertical-align: top;\n",
       "    }\n",
       "\n",
       "    .dataframe thead th {\n",
       "        text-align: right;\n",
       "    }\n",
       "</style>\n",
       "<table border=\"1\" class=\"dataframe\">\n",
       "  <thead>\n",
       "    <tr style=\"text-align: right;\">\n",
       "      <th></th>\n",
       "      <th>engine_displacement</th>\n",
       "      <th>horsepower</th>\n",
       "      <th>vehicle_weight</th>\n",
       "      <th>model_year</th>\n",
       "      <th>fuel_efficiency_mpg</th>\n",
       "    </tr>\n",
       "  </thead>\n",
       "  <tbody>\n",
       "    <tr>\n",
       "      <th>0</th>\n",
       "      <td>140</td>\n",
       "      <td>148.0</td>\n",
       "      <td>2704.826005</td>\n",
       "      <td>2017</td>\n",
       "      <td>15.804354</td>\n",
       "    </tr>\n",
       "    <tr>\n",
       "      <th>1</th>\n",
       "      <td>210</td>\n",
       "      <td>136.0</td>\n",
       "      <td>3001.227490</td>\n",
       "      <td>2004</td>\n",
       "      <td>14.272374</td>\n",
       "    </tr>\n",
       "    <tr>\n",
       "      <th>2</th>\n",
       "      <td>210</td>\n",
       "      <td>152.0</td>\n",
       "      <td>3747.467392</td>\n",
       "      <td>2021</td>\n",
       "      <td>11.748441</td>\n",
       "    </tr>\n",
       "    <tr>\n",
       "      <th>3</th>\n",
       "      <td>190</td>\n",
       "      <td>128.0</td>\n",
       "      <td>2705.833636</td>\n",
       "      <td>2014</td>\n",
       "      <td>16.485991</td>\n",
       "    </tr>\n",
       "    <tr>\n",
       "      <th>4</th>\n",
       "      <td>230</td>\n",
       "      <td>156.0</td>\n",
       "      <td>2505.939657</td>\n",
       "      <td>2005</td>\n",
       "      <td>17.779704</td>\n",
       "    </tr>\n",
       "  </tbody>\n",
       "</table>\n",
       "</div>"
      ]
     },
     "execution_count": 35,
     "metadata": {},
     "output_type": "execute_result"
    }
   ],
   "execution_count": 35
  },
  {
   "metadata": {},
   "cell_type": "markdown",
   "source": [
    "\n",
    "\n",
    "Use the same code as in the lectures\n",
    "\n",
    "\n",
    "### Question 3\n",
    "\n",
    "* We need to deal with missing values for the column from Q1.\n",
    "* We have two options: fill it with 0 or with the mean of this variable."
   ],
   "id": "5a678bb9dcaff667"
  },
  {
   "metadata": {
    "ExecuteTime": {
     "end_time": "2025-10-05T12:32:19.581321Z",
     "start_time": "2025-10-05T12:32:19.575637Z"
    }
   },
   "cell_type": "code",
   "source": [
    "df_train_zeros = df_train.fillna(0)\n",
    "df_train_zeros['horsepower'].mean()\n",
    "df_train_mean = df_train.fillna(df_train.mean())\n",
    "df_train_mean['horsepower'].mean()"
   ],
   "id": "797d9106066b7da6",
   "outputs": [
    {
     "data": {
      "text/plain": [
       "np.float64(138.52918956043956)"
      ]
     },
     "execution_count": 37,
     "metadata": {},
     "output_type": "execute_result"
    },
    {
     "data": {
      "text/plain": [
       "np.float64(149.54476367006487)"
      ]
     },
     "execution_count": 37,
     "metadata": {},
     "output_type": "execute_result"
    }
   ],
   "execution_count": 37
  },
  {
   "metadata": {},
   "cell_type": "markdown",
   "source": [
    "\n",
    "\n",
    "* Try both options. For each, train a linear regression model without regularization using the code from the lessons.\n",
    "* For computing the mean, use the training only!\n",
    "* Use the validation dataset to evaluate the models and compare the RMSE of each option.\n",
    "* Round the RMSE scores to 2 decimal digits using `round(score, 2)`\n",
    "* Which option gives better RMSE?\n",
    "\n",
    "Options:\n",
    "\n",
    "- With 0\n",
    "- With mean\n",
    "- Both are equally good\n",
    "\n",
    "\n",
    "### Question 4\n",
    "\n",
    "* Now let's train a regularized linear regression.\n",
    "* For this question, fill the NAs with 0.\n",
    "* Try different values of `r` from this list: `[0, 0.01, 0.1, 1, 5, 10, 100]`.\n",
    "* Use RMSE to evaluate the model on the validation dataset.\n",
    "* Round the RMSE scores to 2 decimal digits.\n",
    "* Which `r` gives the best RMSE?\n",
    "\n",
    "If there are multiple options, select the smallest `r`.\n",
    "\n",
    "Options:\n",
    "\n",
    "- 0\n",
    "- 0.01\n",
    "- 1\n",
    "- 10\n",
    "- 100\n",
    "\n",
    "\n",
    "### Question 5\n",
    "\n",
    "* We used seed 42 for splitting the data. Let's find out how selecting the seed influences our score.\n",
    "* Try different seed values: `[0, 1, 2, 3, 4, 5, 6, 7, 8, 9]`.\n",
    "* For each seed, do the train/validation/test split with 60%/20%/20% distribution.\n",
    "* Fill the missing values with 0 and train a model without regularization.\n",
    "* For each seed, evaluate the model on the validation dataset and collect the RMSE scores.\n",
    "* What's the standard deviation of all the scores? To compute the standard deviation, use `np.std`.\n",
    "* Round the result to 3 decimal digits (`round(std, 3)`)\n",
    "\n",
    "What's the value of std?\n",
    "\n",
    "- 0.001\n",
    "- 0.006\n",
    "- 0.060\n",
    "- 0.600\n",
    "\n",
    "> Note: Standard deviation shows how different the values are.\n",
    "> If it's low, then all values are approximately the same.\n",
    "> If it's high, the values are different.\n",
    "> If standard deviation of scores is low, then our model is *stable*.\n",
    "\n",
    "\n",
    "### Question 6\n",
    "\n",
    "* Split the dataset like previously, use seed 9.\n",
    "* Combine train and validation datasets.\n",
    "* Fill the missing values with 0 and train a model with `r=0.001`.\n",
    "* What's the RMSE on the test dataset?\n",
    "\n",
    "Options:\n",
    "\n",
    "- 0.15\n",
    "- 0.515\n",
    "- 5.15\n",
    "- 51.5\n",
    "\n",
    "## Submit the results\n",
    "\n",
    "* Submit your results here: https://courses.datatalks.club/ml-zoomcamp-2025/homework/hw02\n",
    "* If your answer doesn't match options exactly, select the closest one"
   ],
   "id": "703e30701262d4bf"
  }
 ],
 "metadata": {
  "kernelspec": {
   "display_name": "Python 3",
   "language": "python",
   "name": "python3"
  },
  "language_info": {
   "codemirror_mode": {
    "name": "ipython",
    "version": 2
   },
   "file_extension": ".py",
   "mimetype": "text/x-python",
   "name": "python",
   "nbconvert_exporter": "python",
   "pygments_lexer": "ipython2",
   "version": "2.7.6"
  }
 },
 "nbformat": 4,
 "nbformat_minor": 5
}
