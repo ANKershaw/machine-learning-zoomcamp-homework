{
 "cells": [
  {
   "metadata": {
    "ExecuteTime": {
     "end_time": "2025-10-07T16:53:56.617886Z",
     "start_time": "2025-10-07T16:53:56.615719Z"
    }
   },
   "cell_type": "code",
   "source": [
    "from IPython.core.interactiveshell import InteractiveShell\n",
    "\n",
    "InteractiveShell.ast_node_interactivity = \"all\""
   ],
   "id": "53db1eab14c94b8",
   "outputs": [],
   "execution_count": 191
  },
  {
   "metadata": {},
   "cell_type": "markdown",
   "source": [
    "## Homework\n",
    "\n",
    "> Note: sometimes your answer doesn't match one of\n",
    "> the options exactly. That's fine.\n",
    "> Select the option that's closest to your solution.\n",
    "\n",
    "### Dataset\n",
    "\n",
    "For this homework, we'll use the Car Fuel Efficiency dataset. Download it from <a href='https://raw.githubusercontent.com/alexeygrigorev/datasets/master/car_fuel_efficiency.csv'>here</a>.\n",
    "\n",
    "You can do it with wget:\n",
    "```bash\n",
    "wget https://raw.githubusercontent.com/alexeygrigorev/datasets/master/car_fuel_efficiency.csv\n",
    "```"
   ],
   "id": "cb50cf6d0145ab65"
  },
  {
   "metadata": {
    "ExecuteTime": {
     "end_time": "2025-10-07T16:53:56.631948Z",
     "start_time": "2025-10-07T16:53:56.630178Z"
    }
   },
   "cell_type": "code",
   "source": [
    "import pandas as pd\n",
    "import numpy as np\n",
    "import seaborn as sns\n"
   ],
   "id": "15fbf3becb161dba",
   "outputs": [],
   "execution_count": 192
  },
  {
   "metadata": {
    "ExecuteTime": {
     "end_time": "2025-10-07T16:53:59.661497Z",
     "start_time": "2025-10-07T16:53:56.654002Z"
    }
   },
   "cell_type": "code",
   "source": [
    "data = pd.read_csv('https://raw.githubusercontent.com/alexeygrigorev/datasets/master/car_fuel_efficiency.csv')\n",
    "data.head()\n"
   ],
   "id": "7be1365496c41f69",
   "outputs": [
    {
     "data": {
      "text/plain": [
       "   engine_displacement  num_cylinders  horsepower  vehicle_weight  \\\n",
       "0                  170            3.0       159.0     3413.433759   \n",
       "1                  130            5.0        97.0     3149.664934   \n",
       "2                  170            NaN        78.0     3079.038997   \n",
       "3                  220            4.0         NaN     2542.392402   \n",
       "4                  210            1.0       140.0     3460.870990   \n",
       "\n",
       "   acceleration  model_year  origin fuel_type         drivetrain  num_doors  \\\n",
       "0          17.7        2003  Europe  Gasoline    All-wheel drive        0.0   \n",
       "1          17.8        2007     USA  Gasoline  Front-wheel drive        0.0   \n",
       "2          15.1        2018  Europe  Gasoline  Front-wheel drive        0.0   \n",
       "3          20.2        2009     USA    Diesel    All-wheel drive        2.0   \n",
       "4          14.4        2009  Europe  Gasoline    All-wheel drive        2.0   \n",
       "\n",
       "   fuel_efficiency_mpg  \n",
       "0            13.231729  \n",
       "1            13.688217  \n",
       "2            14.246341  \n",
       "3            16.912736  \n",
       "4            12.488369  "
      ],
      "text/html": [
       "<div>\n",
       "<style scoped>\n",
       "    .dataframe tbody tr th:only-of-type {\n",
       "        vertical-align: middle;\n",
       "    }\n",
       "\n",
       "    .dataframe tbody tr th {\n",
       "        vertical-align: top;\n",
       "    }\n",
       "\n",
       "    .dataframe thead th {\n",
       "        text-align: right;\n",
       "    }\n",
       "</style>\n",
       "<table border=\"1\" class=\"dataframe\">\n",
       "  <thead>\n",
       "    <tr style=\"text-align: right;\">\n",
       "      <th></th>\n",
       "      <th>engine_displacement</th>\n",
       "      <th>num_cylinders</th>\n",
       "      <th>horsepower</th>\n",
       "      <th>vehicle_weight</th>\n",
       "      <th>acceleration</th>\n",
       "      <th>model_year</th>\n",
       "      <th>origin</th>\n",
       "      <th>fuel_type</th>\n",
       "      <th>drivetrain</th>\n",
       "      <th>num_doors</th>\n",
       "      <th>fuel_efficiency_mpg</th>\n",
       "    </tr>\n",
       "  </thead>\n",
       "  <tbody>\n",
       "    <tr>\n",
       "      <th>0</th>\n",
       "      <td>170</td>\n",
       "      <td>3.0</td>\n",
       "      <td>159.0</td>\n",
       "      <td>3413.433759</td>\n",
       "      <td>17.7</td>\n",
       "      <td>2003</td>\n",
       "      <td>Europe</td>\n",
       "      <td>Gasoline</td>\n",
       "      <td>All-wheel drive</td>\n",
       "      <td>0.0</td>\n",
       "      <td>13.231729</td>\n",
       "    </tr>\n",
       "    <tr>\n",
       "      <th>1</th>\n",
       "      <td>130</td>\n",
       "      <td>5.0</td>\n",
       "      <td>97.0</td>\n",
       "      <td>3149.664934</td>\n",
       "      <td>17.8</td>\n",
       "      <td>2007</td>\n",
       "      <td>USA</td>\n",
       "      <td>Gasoline</td>\n",
       "      <td>Front-wheel drive</td>\n",
       "      <td>0.0</td>\n",
       "      <td>13.688217</td>\n",
       "    </tr>\n",
       "    <tr>\n",
       "      <th>2</th>\n",
       "      <td>170</td>\n",
       "      <td>NaN</td>\n",
       "      <td>78.0</td>\n",
       "      <td>3079.038997</td>\n",
       "      <td>15.1</td>\n",
       "      <td>2018</td>\n",
       "      <td>Europe</td>\n",
       "      <td>Gasoline</td>\n",
       "      <td>Front-wheel drive</td>\n",
       "      <td>0.0</td>\n",
       "      <td>14.246341</td>\n",
       "    </tr>\n",
       "    <tr>\n",
       "      <th>3</th>\n",
       "      <td>220</td>\n",
       "      <td>4.0</td>\n",
       "      <td>NaN</td>\n",
       "      <td>2542.392402</td>\n",
       "      <td>20.2</td>\n",
       "      <td>2009</td>\n",
       "      <td>USA</td>\n",
       "      <td>Diesel</td>\n",
       "      <td>All-wheel drive</td>\n",
       "      <td>2.0</td>\n",
       "      <td>16.912736</td>\n",
       "    </tr>\n",
       "    <tr>\n",
       "      <th>4</th>\n",
       "      <td>210</td>\n",
       "      <td>1.0</td>\n",
       "      <td>140.0</td>\n",
       "      <td>3460.870990</td>\n",
       "      <td>14.4</td>\n",
       "      <td>2009</td>\n",
       "      <td>Europe</td>\n",
       "      <td>Gasoline</td>\n",
       "      <td>All-wheel drive</td>\n",
       "      <td>2.0</td>\n",
       "      <td>12.488369</td>\n",
       "    </tr>\n",
       "  </tbody>\n",
       "</table>\n",
       "</div>"
      ]
     },
     "execution_count": 193,
     "metadata": {},
     "output_type": "execute_result"
    }
   ],
   "execution_count": 193
  },
  {
   "metadata": {},
   "cell_type": "markdown",
   "source": [
    "\n",
    "The goal of this homework is to create a regression model for predicting the car fuel efficiency (column `'fuel_efficiency_mpg'`).\n",
    "\n",
    "### Preparing the dataset\n",
    "\n",
    "Use only the following columns:\n",
    "\n",
    "* `'engine_displacement'`,\n",
    "* `'horsepower'`,\n",
    "* `'vehicle_weight'`,\n",
    "* `'model_year'`,\n",
    "* `'fuel_efficiency_mpg'`"
   ],
   "id": "f7e96f9d77946eb2"
  },
  {
   "metadata": {
    "ExecuteTime": {
     "end_time": "2025-10-07T16:53:59.725756Z",
     "start_time": "2025-10-07T16:53:59.723308Z"
    }
   },
   "cell_type": "code",
   "source": [
    "data = data[['engine_displacement', 'horsepower', 'vehicle_weight', 'model_year', 'fuel_efficiency_mpg']]\n",
    "data.columns"
   ],
   "id": "e87b3a818e1604f4",
   "outputs": [
    {
     "data": {
      "text/plain": [
       "Index(['engine_displacement', 'horsepower', 'vehicle_weight', 'model_year',\n",
       "       'fuel_efficiency_mpg'],\n",
       "      dtype='object')"
      ]
     },
     "execution_count": 194,
     "metadata": {},
     "output_type": "execute_result"
    }
   ],
   "execution_count": 194
  },
  {
   "metadata": {},
   "cell_type": "markdown",
   "source": [
    "\n",
    "### EDA\n",
    "\n",
    "* Look at the `fuel_efficiency_mpg` variable. Does it have a long tail?"
   ],
   "id": "67cb54258695d776"
  },
  {
   "metadata": {},
   "cell_type": "markdown",
   "source": [
    "\n",
    "### Question 1\n",
    "\n",
    "There's one column with missing values. What is it?\n",
    "\n",
    "* `'engine_displacement'`\n",
    "* `'horsepower'`\n",
    "* `'vehicle_weight'`\n",
    "* `'model_year'`\n"
   ],
   "id": "d48f08587edd2829"
  },
  {
   "metadata": {
    "ExecuteTime": {
     "end_time": "2025-10-07T16:53:59.777082Z",
     "start_time": "2025-10-07T16:53:59.774410Z"
    }
   },
   "cell_type": "code",
   "source": "data.isnull().sum()",
   "id": "f8db0ccf0ba565a8",
   "outputs": [
    {
     "data": {
      "text/plain": [
       "engine_displacement      0\n",
       "horsepower             708\n",
       "vehicle_weight           0\n",
       "model_year               0\n",
       "fuel_efficiency_mpg      0\n",
       "dtype: int64"
      ]
     },
     "execution_count": 195,
     "metadata": {},
     "output_type": "execute_result"
    }
   ],
   "execution_count": 195
  },
  {
   "metadata": {},
   "cell_type": "markdown",
   "source": [
    "\n",
    "### Question 2\n",
    "\n",
    "What's the median (50% percentile) for variable `'horsepower'`?\n",
    "\n",
    "- 49\n",
    "- 99\n",
    "- 149\n",
    "- 199"
   ],
   "id": "1ab1edf8db7975fd"
  },
  {
   "metadata": {
    "ExecuteTime": {
     "end_time": "2025-10-07T16:53:59.871933Z",
     "start_time": "2025-10-07T16:53:59.869860Z"
    }
   },
   "cell_type": "code",
   "source": "data['horsepower'].median()",
   "id": "491dd4df7a39f936",
   "outputs": [
    {
     "data": {
      "text/plain": [
       "149.0"
      ]
     },
     "execution_count": 196,
     "metadata": {},
     "output_type": "execute_result"
    }
   ],
   "execution_count": 196
  },
  {
   "metadata": {},
   "cell_type": "markdown",
   "source": [
    "\n",
    "### Prepare and split the dataset\n",
    "\n",
    "* Shuffle the dataset (the filtered one you created above), use seed `42`."
   ],
   "id": "2e468b155fa90a58"
  },
  {
   "metadata": {
    "ExecuteTime": {
     "end_time": "2025-10-07T16:53:59.927086Z",
     "start_time": "2025-10-07T16:53:59.925222Z"
    }
   },
   "cell_type": "code",
   "source": [
    "# create the index and shuffle it\n",
    "\n",
    "idx = np.arange(len(data))\n",
    "np.random.seed(42)\n",
    "np.random.shuffle(idx)\n",
    "#"
   ],
   "id": "91ac579f8ae3b781",
   "outputs": [],
   "execution_count": 197
  },
  {
   "metadata": {},
   "cell_type": "markdown",
   "source": [
    "\n",
    "* Split your data in train/val/test sets, with 60%/20%/20% distribution.\n"
   ],
   "id": "64101980e59f51b4"
  },
  {
   "metadata": {
    "ExecuteTime": {
     "end_time": "2025-10-07T16:53:59.953843Z",
     "start_time": "2025-10-07T16:53:59.951468Z"
    }
   },
   "cell_type": "code",
   "source": [
    "n = len(data)\n",
    "n_val = int(n * .2)\n",
    "n_test = int(n * .2)\n",
    "n_train = n - n_val - n_test\n",
    "\n",
    "print(f'train size: {n_train}, val and test: {n_val}, {n_test}, total: {n}, sum check: {n_train + n_val + n_test}')\n",
    "print(f'index check: 0:{n_train}, {n_train}:{n_train+n_val}, {n_train+n_val}:end')\n"
   ],
   "id": "d62dd4e676dc7287",
   "outputs": [
    {
     "name": "stdout",
     "output_type": "stream",
     "text": [
      "train size: 5824, val and test: 1940, 1940, total: 9704, sum check: 9704\n",
      "index check: 0:5824, 5824:7764, 7764:end\n"
     ]
    }
   ],
   "execution_count": 198
  },
  {
   "metadata": {
    "ExecuteTime": {
     "end_time": "2025-10-07T16:53:59.986739Z",
     "start_time": "2025-10-07T16:53:59.982057Z"
    }
   },
   "cell_type": "code",
   "source": [
    "df_train = data.iloc[idx[:n_train]]\n",
    "df_val = data.iloc[idx[n_train:n_train+n_val]]\n",
    "df_test = data.iloc[idx[n_train+n_val:]]\n",
    "\n",
    "df_train.head()\n",
    "idx[:5]"
   ],
   "id": "1b25d3a338be5bf1",
   "outputs": [
    {
     "data": {
      "text/plain": [
       "      engine_displacement  horsepower  vehicle_weight  model_year  \\\n",
       "483                   220       144.0     2535.887591        2009   \n",
       "7506                  160       141.0     2741.170484        2019   \n",
       "8795                  230       155.0     2471.880237        2017   \n",
       "1688                  150       206.0     3748.164469        2015   \n",
       "6217                  300       111.0     2135.716359        2006   \n",
       "\n",
       "      fuel_efficiency_mpg  \n",
       "483             16.642943  \n",
       "7506            16.298377  \n",
       "8795            18.591822  \n",
       "1688            11.818843  \n",
       "6217            19.402209  "
      ],
      "text/html": [
       "<div>\n",
       "<style scoped>\n",
       "    .dataframe tbody tr th:only-of-type {\n",
       "        vertical-align: middle;\n",
       "    }\n",
       "\n",
       "    .dataframe tbody tr th {\n",
       "        vertical-align: top;\n",
       "    }\n",
       "\n",
       "    .dataframe thead th {\n",
       "        text-align: right;\n",
       "    }\n",
       "</style>\n",
       "<table border=\"1\" class=\"dataframe\">\n",
       "  <thead>\n",
       "    <tr style=\"text-align: right;\">\n",
       "      <th></th>\n",
       "      <th>engine_displacement</th>\n",
       "      <th>horsepower</th>\n",
       "      <th>vehicle_weight</th>\n",
       "      <th>model_year</th>\n",
       "      <th>fuel_efficiency_mpg</th>\n",
       "    </tr>\n",
       "  </thead>\n",
       "  <tbody>\n",
       "    <tr>\n",
       "      <th>483</th>\n",
       "      <td>220</td>\n",
       "      <td>144.0</td>\n",
       "      <td>2535.887591</td>\n",
       "      <td>2009</td>\n",
       "      <td>16.642943</td>\n",
       "    </tr>\n",
       "    <tr>\n",
       "      <th>7506</th>\n",
       "      <td>160</td>\n",
       "      <td>141.0</td>\n",
       "      <td>2741.170484</td>\n",
       "      <td>2019</td>\n",
       "      <td>16.298377</td>\n",
       "    </tr>\n",
       "    <tr>\n",
       "      <th>8795</th>\n",
       "      <td>230</td>\n",
       "      <td>155.0</td>\n",
       "      <td>2471.880237</td>\n",
       "      <td>2017</td>\n",
       "      <td>18.591822</td>\n",
       "    </tr>\n",
       "    <tr>\n",
       "      <th>1688</th>\n",
       "      <td>150</td>\n",
       "      <td>206.0</td>\n",
       "      <td>3748.164469</td>\n",
       "      <td>2015</td>\n",
       "      <td>11.818843</td>\n",
       "    </tr>\n",
       "    <tr>\n",
       "      <th>6217</th>\n",
       "      <td>300</td>\n",
       "      <td>111.0</td>\n",
       "      <td>2135.716359</td>\n",
       "      <td>2006</td>\n",
       "      <td>19.402209</td>\n",
       "    </tr>\n",
       "  </tbody>\n",
       "</table>\n",
       "</div>"
      ]
     },
     "execution_count": 199,
     "metadata": {},
     "output_type": "execute_result"
    },
    {
     "data": {
      "text/plain": [
       "array([ 483, 7506, 8795, 1688, 6217])"
      ]
     },
     "execution_count": 199,
     "metadata": {},
     "output_type": "execute_result"
    }
   ],
   "execution_count": 199
  },
  {
   "metadata": {
    "ExecuteTime": {
     "end_time": "2025-10-07T16:54:00.036531Z",
     "start_time": "2025-10-07T16:54:00.032743Z"
    }
   },
   "cell_type": "code",
   "source": [
    "df_train = df_train.reset_index(drop=True)\n",
    "df_val = df_val.reset_index(drop=True)\n",
    "df_test = df_test.reset_index(drop=True)\n",
    "\n",
    "\n",
    "df_test.head()"
   ],
   "id": "4b48d5e618926336",
   "outputs": [
    {
     "data": {
      "text/plain": [
       "   engine_displacement  horsepower  vehicle_weight  model_year  \\\n",
       "0                  140       148.0     2704.826005        2017   \n",
       "1                  210       136.0     3001.227490        2004   \n",
       "2                  210       152.0     3747.467392        2021   \n",
       "3                  190       128.0     2705.833636        2014   \n",
       "4                  230       156.0     2505.939657        2005   \n",
       "\n",
       "   fuel_efficiency_mpg  \n",
       "0            15.804354  \n",
       "1            14.272374  \n",
       "2            11.748441  \n",
       "3            16.485991  \n",
       "4            17.779704  "
      ],
      "text/html": [
       "<div>\n",
       "<style scoped>\n",
       "    .dataframe tbody tr th:only-of-type {\n",
       "        vertical-align: middle;\n",
       "    }\n",
       "\n",
       "    .dataframe tbody tr th {\n",
       "        vertical-align: top;\n",
       "    }\n",
       "\n",
       "    .dataframe thead th {\n",
       "        text-align: right;\n",
       "    }\n",
       "</style>\n",
       "<table border=\"1\" class=\"dataframe\">\n",
       "  <thead>\n",
       "    <tr style=\"text-align: right;\">\n",
       "      <th></th>\n",
       "      <th>engine_displacement</th>\n",
       "      <th>horsepower</th>\n",
       "      <th>vehicle_weight</th>\n",
       "      <th>model_year</th>\n",
       "      <th>fuel_efficiency_mpg</th>\n",
       "    </tr>\n",
       "  </thead>\n",
       "  <tbody>\n",
       "    <tr>\n",
       "      <th>0</th>\n",
       "      <td>140</td>\n",
       "      <td>148.0</td>\n",
       "      <td>2704.826005</td>\n",
       "      <td>2017</td>\n",
       "      <td>15.804354</td>\n",
       "    </tr>\n",
       "    <tr>\n",
       "      <th>1</th>\n",
       "      <td>210</td>\n",
       "      <td>136.0</td>\n",
       "      <td>3001.227490</td>\n",
       "      <td>2004</td>\n",
       "      <td>14.272374</td>\n",
       "    </tr>\n",
       "    <tr>\n",
       "      <th>2</th>\n",
       "      <td>210</td>\n",
       "      <td>152.0</td>\n",
       "      <td>3747.467392</td>\n",
       "      <td>2021</td>\n",
       "      <td>11.748441</td>\n",
       "    </tr>\n",
       "    <tr>\n",
       "      <th>3</th>\n",
       "      <td>190</td>\n",
       "      <td>128.0</td>\n",
       "      <td>2705.833636</td>\n",
       "      <td>2014</td>\n",
       "      <td>16.485991</td>\n",
       "    </tr>\n",
       "    <tr>\n",
       "      <th>4</th>\n",
       "      <td>230</td>\n",
       "      <td>156.0</td>\n",
       "      <td>2505.939657</td>\n",
       "      <td>2005</td>\n",
       "      <td>17.779704</td>\n",
       "    </tr>\n",
       "  </tbody>\n",
       "</table>\n",
       "</div>"
      ]
     },
     "execution_count": 200,
     "metadata": {},
     "output_type": "execute_result"
    }
   ],
   "execution_count": 200
  },
  {
   "metadata": {},
   "cell_type": "markdown",
   "source": [
    "\n",
    "\n",
    "Use the same code as in the lectures\n",
    "\n",
    "\n",
    "### Question 3\n",
    "\n",
    "* We need to deal with missing values for the column from Q1.\n",
    "* We have two options: fill it with 0 or with the mean of this variable."
   ],
   "id": "5a678bb9dcaff667"
  },
  {
   "metadata": {
    "ExecuteTime": {
     "end_time": "2025-10-07T16:54:00.145467Z",
     "start_time": "2025-10-07T16:54:00.141980Z"
    }
   },
   "cell_type": "code",
   "source": [
    "base=['engine_displacement', 'horsepower', 'vehicle_weight', 'model_year']\n",
    "\n",
    "df_zeros_train = df_train[base].fillna(0)\n",
    "df_mean_train = df_train[base].fillna(df_train.mean())\n",
    "\n",
    "\n",
    "y_train = df_train['fuel_efficiency_mpg']\n",
    "y_val = df_val['fuel_efficiency_mpg']"
   ],
   "id": "797d9106066b7da6",
   "outputs": [],
   "execution_count": 201
  },
  {
   "metadata": {},
   "cell_type": "markdown",
   "source": [
    "\n",
    "\n",
    "* Try both options. For each, train a linear regression model without regularization using the code from the lessons."
   ],
   "id": "53ad7dd453e2f93a"
  },
  {
   "metadata": {
    "ExecuteTime": {
     "end_time": "2025-10-07T16:54:00.196229Z",
     "start_time": "2025-10-07T16:54:00.194218Z"
    }
   },
   "cell_type": "code",
   "source": [
    "def linear_regression(xi, weight):\n",
    "\treturn xi.dot(weight)\n",
    "\n",
    "\n",
    "def train_linear_regression(X, y):\n",
    "    ones = np.ones(X.shape[0])\n",
    "    X = np.column_stack([ones, X])\n",
    "\n",
    "    XTX = X.T.dot(X)\n",
    "    XTX_inv = np.linalg.inv(XTX)\n",
    "    w_full = XTX_inv.dot(X.T).dot(y)\n",
    "\n",
    "    return w_full[0], w_full[1:]"
   ],
   "id": "b866b5583ac46ea5",
   "outputs": [],
   "execution_count": 202
  },
  {
   "metadata": {
    "ExecuteTime": {
     "end_time": "2025-10-07T16:54:00.361739Z",
     "start_time": "2025-10-07T16:54:00.246928Z"
    }
   },
   "cell_type": "code",
   "source": [
    "zeros_w0, zeros_w = train_linear_regression(df_zeros_train, y_train)\n",
    "mean_w0, mean_w = train_linear_regression(df_mean_train, y_train)\n",
    "\n",
    "y_train_pred_zeros = zeros_w0 + linear_regression(df_zeros_train, zeros_w)\n",
    "y_train_pred_mean = mean_w0 + linear_regression(df_mean_train, mean_w)\n",
    "\n",
    "sns.histplot(y_train_pred_zeros, bins=50, color='red', alpha=.5)\n",
    "sns.histplot(y_train_pred_mean, bins=50, color='blue', alpha=.5)\n",
    "sns.histplot(y_train, bins=50, color='yellow', alpha=.8)"
   ],
   "id": "7c0ae5ee31c57fe1",
   "outputs": [
    {
     "data": {
      "text/plain": [
       "<Axes: ylabel='Count'>"
      ]
     },
     "execution_count": 203,
     "metadata": {},
     "output_type": "execute_result"
    },
    {
     "data": {
      "text/plain": [
       "<Axes: ylabel='Count'>"
      ]
     },
     "execution_count": 203,
     "metadata": {},
     "output_type": "execute_result"
    },
    {
     "data": {
      "text/plain": [
       "<Axes: xlabel='fuel_efficiency_mpg', ylabel='Count'>"
      ]
     },
     "execution_count": 203,
     "metadata": {},
     "output_type": "execute_result"
    },
    {
     "data": {
      "text/plain": [
       "<Figure size 640x480 with 1 Axes>"
      ],
      "image/png": "[encoded data removed]"
     },
     "metadata": {},
     "output_type": "display_data"
    }
   ],
   "execution_count": 203
  },
  {
   "metadata": {},
   "cell_type": "markdown",
   "source": [
    "* For computing the mean, use the training only!\n",
    "* Use the validation dataset to evaluate the models and compare the RMSE of each option."
   ],
   "id": "75033c3f4167d217"
  },
  {
   "metadata": {
    "ExecuteTime": {
     "end_time": "2025-10-07T16:54:00.381694Z",
     "start_time": "2025-10-07T16:54:00.379952Z"
    }
   },
   "cell_type": "code",
   "source": [
    "def rmse(y, y_pred):\n",
    "\tse = (y - y_pred)**2\n",
    "\tmse = se.mean()\n",
    "\treturn np.sqrt(mse)"
   ],
   "id": "4904ad9d71ee994e",
   "outputs": [],
   "execution_count": 204
  },
  {
   "metadata": {
    "ExecuteTime": {
     "end_time": "2025-10-07T16:54:00.404121Z",
     "start_time": "2025-10-07T16:54:00.399099Z"
    }
   },
   "cell_type": "code",
   "source": [
    "\n",
    "\n",
    "def prepare_X(df):\n",
    "\t''' this will prepare the dataset and fill na fields with 0\n",
    "\n",
    "\t:param df:\n",
    "\t:return:\n",
    "\t'''\n",
    "\tbase_fields =['engine_displacement', 'horsepower', 'vehicle_weight', 'model_year']\n",
    "\tdf_num = df[base_fields].fillna(0)\n",
    "\tX = df_num.values\n",
    "\treturn X\n",
    "\n",
    "# prepare the validation dataset\n",
    "df_zeros_val = df_val[base].fillna(0)\n",
    "df_mean_val = df_val[base].fillna(df_val.mean())\n",
    "y_val = df_val['fuel_efficiency_mpg']\n",
    "\n",
    "w0_val_zero, w_val_zero = train_linear_regression(df_zeros_val, y_val)\n",
    "w0_val_mean, w_val_mean = train_linear_regression(df_mean_val, y_val)\n",
    "\n",
    "y_pred_val_zero = w0_val_zero + linear_regression(df_zeros_val, w_val_zero)\n",
    "\n",
    "y_pred_val_mean = w0_val_mean + linear_regression(df_mean_val, w_val_mean)\n",
    "\n",
    "val_zero_rmse = rmse(y_val, y_pred_val_zero)\n",
    "val_mean_rmse = rmse(y_val, y_pred_val_mean)\n",
    "\n",
    "print(val_zero_rmse, val_mean_rmse)\n"
   ],
   "id": "f6c13706bcbcb5e5",
   "outputs": [
    {
     "name": "stdout",
     "output_type": "stream",
     "text": [
      "0.5167086303896663 0.46310623488998814\n"
     ]
    }
   ],
   "execution_count": 205
  },
  {
   "metadata": {},
   "cell_type": "markdown",
   "source": [
    "\n",
    "* Round the RMSE scores to 2 decimal digits using `round(score, 2)`"
   ],
   "id": "20e01a8c41c2ddd2"
  },
  {
   "metadata": {},
   "cell_type": "markdown",
   "source": "",
   "id": "35b76919df9cffe2"
  },
  {
   "metadata": {
    "ExecuteTime": {
     "end_time": "2025-10-07T16:54:00.423323Z",
     "start_time": "2025-10-07T16:54:00.421492Z"
    }
   },
   "cell_type": "code",
   "source": [
    "print(f'with na as 0: {round(val_zero_rmse,2)}')\n",
    "print(f'with na as mean: {round(val_mean_rmse,2)}')"
   ],
   "id": "55461ffc5ba1dc15",
   "outputs": [
    {
     "name": "stdout",
     "output_type": "stream",
     "text": [
      "with na as 0: 0.52\n",
      "with na as mean: 0.46\n"
     ]
    }
   ],
   "execution_count": 206
  },
  {
   "metadata": {},
   "cell_type": "markdown",
   "source": [
    "\n",
    "* Which option gives better RMSE?\n",
    "\n",
    "Options:\n",
    "\n",
    "- With 0\n",
    "- With mean\n",
    "- Both are equally good\n",
    "\n",
    "\n",
    "### Question 4\n",
    "\n",
    "* Now let's train a regularized linear regression.\n",
    "* For this question, fill the NAs with 0."
   ],
   "id": "95bafb55bc8e6961"
  },
  {
   "metadata": {
    "ExecuteTime": {
     "end_time": "2025-10-07T16:54:00.441935Z",
     "start_time": "2025-10-07T16:54:00.440001Z"
    }
   },
   "cell_type": "code",
   "source": [
    "def train_reg_linear_regression(X, y, r):\n",
    "    ones = np.ones(X.shape[0])\n",
    "    X = np.column_stack([ones, X])\n",
    "\n",
    "    XTX = X.T.dot(X)\n",
    "    XTX = XTX + (r * np.eye(XTX.shape[0]))\n",
    "\n",
    "    XTX_inv = np.linalg.inv(XTX)\n",
    "    w_full = XTX_inv.dot(X.T).dot(y)\n",
    "\n",
    "    return w_full[0], w_full[1:]"
   ],
   "id": "3dad3be53b9925d0",
   "outputs": [],
   "execution_count": 207
  },
  {
   "metadata": {
    "ExecuteTime": {
     "end_time": "2025-10-07T16:54:00.463433Z",
     "start_time": "2025-10-07T16:54:00.459151Z"
    }
   },
   "cell_type": "code",
   "source": [
    "x_reg_train = prepare_X(df_train)\n",
    "y_reg_train = df_train['fuel_efficiency_mpg'].values\n",
    "\n",
    "x_reg_val = prepare_X(df_val)\n",
    "y_reg_val = df_val['fuel_efficiency_mpg'].values\n",
    "\n",
    "\n",
    "for reg in [0, 0.01, 0.1, 1, 5, 10, 100]:\n",
    "    w0_reg, w_reg = train_reg_linear_regression(x_reg_train, y_reg_train, r=reg)\n",
    "    y_reg_pred = w0_reg + linear_regression(x_reg_val, w_reg)\n",
    "    rmse_result = rmse(y_reg_val, y_reg_pred)\n",
    "    print(f'reg = {reg}, rmse = {round(rmse_result,2)}')\n"
   ],
   "id": "32c4d89c654f2909",
   "outputs": [
    {
     "name": "stdout",
     "output_type": "stream",
     "text": [
      "reg = 0, rmse = 0.52\n",
      "reg = 0.01, rmse = 0.52\n",
      "reg = 0.1, rmse = 0.52\n",
      "reg = 1, rmse = 0.52\n",
      "reg = 5, rmse = 0.52\n",
      "reg = 10, rmse = 0.52\n",
      "reg = 100, rmse = 0.52\n"
     ]
    }
   ],
   "execution_count": 208
  },
  {
   "metadata": {},
   "cell_type": "markdown",
   "source": [
    "\n",
    "* Try different values of `r` from this list: `[0, 0.01, 0.1, 1, 5, 10, 100]`.\n",
    "* Use RMSE to evaluate the model on the validation dataset.\n",
    "* Round the RMSE scores to 2 decimal digits.\n",
    "* Which `r`"
   ],
   "id": "af08297d10c4d677"
  },
  {
   "metadata": {},
   "cell_type": "markdown",
   "source": [
    "\n",
    "\n",
    "If there are multiple options, select the smallest `r`.\n",
    "\n",
    "Options:\n",
    "\n",
    "- 0\n",
    "- 0.01\n",
    "- 1\n",
    "- 10\n",
    "- 100\n",
    "\n",
    "\n",
    "### Question 5\n",
    "\n",
    "* We used seed 42 for splitting the data. Let's find out how selecting the seed influences our score.\n",
    "* Try different seed values: `[0, 1, 2, 3, 4, 5, 6, 7, 8, 9]`."
   ],
   "id": "19d7d9d118685584"
  },
  {
   "metadata": {
    "ExecuteTime": {
     "end_time": "2025-10-07T16:54:00.501805Z",
     "start_time": "2025-10-07T16:54:00.489050Z"
    }
   },
   "cell_type": "code",
   "source": [
    "rmse_scores = []\n",
    "\n",
    "for seed in [0, 1, 2, 3, 4, 5, 6, 7, 8, 9]:\n",
    "    idx = np.arange(len(data))\n",
    "    np.random.seed(seed)\n",
    "    np.random.shuffle(idx)\n",
    "\n",
    "    df_train = data.iloc[idx[:n_train]]\n",
    "    df_val = data.iloc[idx[n_train:n_train+n_val]]\n",
    "\n",
    "\n",
    "    df_train = df_train.reset_index(drop=True)\n",
    "    df_val = df_val.reset_index(drop=True)\n",
    "    #df_test_seeds = data.iloc[idx[n_train+n_val:]]\n",
    "\n",
    "    df_train_x = prepare_X(df_train)\n",
    "    df_train_y = df_train['fuel_efficiency_mpg']\n",
    "\n",
    "    df_valid_x = prepare_X(df_val)\n",
    "    df_valid_y = df_val['fuel_efficiency_mpg']\n",
    "\n",
    "\n",
    "    w0, w = train_linear_regression(df_train_x, df_train_y)\n",
    "\n",
    "    y_pred = w0 + linear_regression(df_valid_x, w)\n",
    "    rmse_result = round(rmse(df_valid_y, y_pred),3)\n",
    "    rmse_scores.append(rmse_result)\n",
    "    print(f'seed = {seed}, rmse = {rmse_result}')\n",
    "\n",
    "\n",
    "print(round(np.array(rmse_scores).std(),3))"
   ],
   "id": "2c29e68369a9b472",
   "outputs": [
    {
     "name": "stdout",
     "output_type": "stream",
     "text": [
      "seed = 0, rmse = 0.521\n",
      "seed = 1, rmse = 0.521\n",
      "seed = 2, rmse = 0.523\n",
      "seed = 3, rmse = 0.516\n",
      "seed = 4, rmse = 0.511\n",
      "seed = 5, rmse = 0.528\n",
      "seed = 6, rmse = 0.531\n",
      "seed = 7, rmse = 0.509\n",
      "seed = 8, rmse = 0.515\n",
      "seed = 9, rmse = 0.513\n",
      "0.007\n"
     ]
    }
   ],
   "execution_count": 209
  },
  {
   "metadata": {},
   "cell_type": "markdown",
   "source": [
    "* For each seed, do the train/validation/test split with 60%/20%/20% distribution.\n",
    "* Fill the missing values with 0 and train a model without regularization.\n",
    "* For each seed, evaluate the model on the validation dataset and collect the RMSE scores.\n",
    "* What's the standard deviation of all the scores? To compute the standard deviation, use `np.std`.\n",
    "* Round the result to 3 decimal digits (`round(std, 3)`)\n",
    "\n",
    "What's the value of std?\n",
    "\n",
    "- 0.001\n",
    "- 0.006\n",
    "- 0.060\n",
    "- 0.600\n",
    "\n",
    "> Note: Standard deviation shows how different the values are.\n",
    "> If it's low, then all values are approximately the same.\n",
    "> If it's high, the values are different.\n",
    "> If standard deviation of scores is low, then our model is *stable*.\n",
    "\n",
    "\n",
    "### Question 6\n",
    "\n",
    "* Split the dataset like previously, use seed 9.\n",
    "* Combine train and validation datasets.\n",
    "* Fill the missing values with 0 and train a model with `r=0.001`.\n",
    "* What's the RMSE on the test dataset?"
   ],
   "id": "9ad625c0c4554fa7"
  },
  {
   "metadata": {
    "ExecuteTime": {
     "end_time": "2025-10-07T16:54:00.524153Z",
     "start_time": "2025-10-07T16:54:00.519335Z"
    }
   },
   "cell_type": "code",
   "source": [
    "idx = np.arange(len(data))\n",
    "np.random.seed(9)\n",
    "np.random.shuffle(idx)\n",
    "\n",
    "df_train = data.iloc[idx[:n_train]]\n",
    "df_val = data.iloc[idx[n_train:n_train+n_val]]\n",
    "df_test = data.iloc[idx[n_train+n_val:]]\n",
    "\n",
    "\n",
    "df_train = df_train.reset_index(drop=True)\n",
    "df_val = df_val.reset_index(drop=True)\n",
    "df_test = df_test.reset_index(drop=True)\n",
    "\n",
    "df_train_val = pd.concat([df_train, df_val], ignore_index=True)\n",
    "df_train_val_x = prepare_X(df_train_val)\n",
    "df_train_val_y = df_train_val['fuel_efficiency_mpg']\n",
    "\n",
    "df_test_x = prepare_X(df_test)\n",
    "df_test_y = df_test['fuel_efficiency_mpg']\n",
    "\n",
    "\n",
    "w0, w = train_reg_linear_regression(df_train_val_x, df_train_val_y, 0.001)\n",
    "\n",
    "y_pred_test = w0 + linear_regression(df_test_x, w)\n",
    "rmse_result = round(rmse(y_pred_test, df_test_y),3)\n",
    "print(f'rmse = {rmse_result}')\n"
   ],
   "id": "aa9e99d09fd77312",
   "outputs": [
    {
     "name": "stdout",
     "output_type": "stream",
     "text": [
      "rmse = 0.516\n"
     ]
    }
   ],
   "execution_count": 210
  },
  {
   "metadata": {},
   "cell_type": "markdown",
   "source": [
    "\n",
    "Options:\n",
    "\n",
    "- 0.15\n",
    "- 0.515\n",
    "- 5.15\n",
    "- 51.5\n",
    "\n",
    "## Submit the results\n",
    "\n",
    "* Submit your results here: https://courses.datatalks.club/ml-zoomcamp-2025/homework/hw02\n",
    "* If your answer doesn't match options exactly, select the closest one"
   ],
   "id": "703e30701262d4bf"
  }
 ],
 "metadata": {
  "kernelspec": {
   "display_name": "Python 3",
   "language": "python",
   "name": "python3"
  },
  "language_info": {
   "codemirror_mode": {
    "name": "ipython",
    "version": 2
   },
   "file_extension": ".py",
   "mimetype": "text/x-python",
   "name": "python",
   "nbconvert_exporter": "python",
   "pygments_lexer": "ipython2",
   "version": "2.7.6"
  }
 },
 "nbformat": 4,
 "nbformat_minor": 5
}
