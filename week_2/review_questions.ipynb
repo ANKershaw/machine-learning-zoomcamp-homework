{
 "cells": [
  {
   "cell_type": "code",
   "execution_count": null,
   "id": "initial_id",
   "metadata": {
    "collapsed": true
   },
   "outputs": [],
   "source": "# Review Questions"
  },
  {
   "metadata": {},
   "cell_type": "markdown",
   "source": [
    "### Pandas\n",
    "\n",
    "1. How do you apply string functions to all column names in a pandas dataset?\n",
    "2. How do you get a python list of all columns that are of type object?\n",
    "3. How do you get a count of unique values in a column?\n",
    "4. How do you find missing values?\n",
    "5. How do you reset the index?\n",
    "6. How do you create a copy of the dataframe?\n",
    "\n",
    "\n",
    "### Numpy\n",
    "\n",
    "1. How do you stack columns together\n",
    "\n",
    "\n",
    "### Plotting\n",
    "\n",
    "1. How do you plot a histogram?\n",
    "2. What's the relationship between seaborn and matplotlib? What are the import conventions for each?\n",
    "\n",
    "\n",
    "### Log Distribution\n",
    "\n",
    "1. Why would you want to perform a log distribution on data you are prepping for ML?\n",
    "2. What is a major caveat of performing a log function on a dataset?\n",
    "3. How do you apply the log function?\n",
    "4. How do you apply a log function in a way that accounts for question 2? What does it do?\n",
    "5. When do you use the two different log functions?\n",
    "6. When you apply a log function to a column, what do you need to do after linear regression to get the actual result?\n",
    "\n",
    "\n",
    "### Validation Framework\n",
    "\n",
    "1. Name the three parts of the validation framework and their respective percentages.\n",
    "2. How often is the test dataset used?\n",
    "3. Explain how to shuffle the indices of a dataset.\n",
    "4. Do #3 in python\n",
    "\n",
    "\n",
    "### Linear Regression\n",
    "\n",
    "1. Give a high level overview of the steps of linear regression.\n",
    "2. What is RMSE"
   ],
   "id": "1b902534c5331c5c"
  }
 ],
 "metadata": {
  "kernelspec": {
   "display_name": "Python 3",
   "language": "python",
   "name": "python3"
  },
  "language_info": {
   "codemirror_mode": {
    "name": "ipython",
    "version": 2
   },
   "file_extension": ".py",
   "mimetype": "text/x-python",
   "name": "python",
   "nbconvert_exporter": "python",
   "pygments_lexer": "ipython2",
   "version": "2.7.6"
  }
 },
 "nbformat": 4,
 "nbformat_minor": 5
}
