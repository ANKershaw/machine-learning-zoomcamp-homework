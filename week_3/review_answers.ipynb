{
 "cells": [
  {
   "cell_type": "code",
   "execution_count": null,
   "id": "initial_id",
   "metadata": {
    "collapsed": true
   },
   "outputs": [],
   "source": "# Review Answers"
  },
  {
   "metadata": {},
   "cell_type": "markdown",
   "source": [
    "## Scikit-Learn\n",
    "\n",
    "1. from sklearn.model_selection import train_test_split. For train/test, we split with test_size=0.2, and then we split train again by test_size=0.25 to get validate\n",
    "2. 60%/20%/20%\n",
    "3."
   ],
   "id": "d4f07a11559a4f0e"
  }
 ],
 "metadata": {
  "kernelspec": {
   "display_name": "Python 3",
   "language": "python",
   "name": "python3"
  },
  "language_info": {
   "codemirror_mode": {
    "name": "ipython",
    "version": 2
   },
   "file_extension": ".py",
   "mimetype": "text/x-python",
   "name": "python",
   "nbconvert_exporter": "python",
   "pygments_lexer": "ipython2",
   "version": "2.7.6"
  }
 },
 "nbformat": 4,
 "nbformat_minor": 5
}
