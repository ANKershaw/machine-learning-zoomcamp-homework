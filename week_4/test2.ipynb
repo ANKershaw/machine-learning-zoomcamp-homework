{
 "cells": [
  {
   "cell_type": "code",
   "id": "initial_id",
   "metadata": {
    "collapsed": true,
    "ExecuteTime": {
     "end_time": "2025-10-19T15:03:58.696081Z",
     "start_time": "2025-10-19T15:03:58.441009Z"
    }
   },
   "source": [
    "import pandas as pd\n",
    "from sklearn.model_selection import train_test_split\n",
    "\n",
    "# Reload and add row_id before splitting\n",
    "data = pd.read_csv('https://raw.githubusercontent.com/alexeygrigorev/datasets/master/course_lead_scoring.csv')\n",
    "data['row_id'] = range(len(data))\n",
    "\n",
    "# Fill missing values\n",
    "for col in data.columns:\n",
    "    if data[col].dtype == 'object':\n",
    "        data[col] = data[col].fillna('NA')\n",
    "    else:\n",
    "        data[col] = data[col].fillna(0.0)\n",
    "\n",
    "# Perform your exact splits again\n",
    "df_full_train, df_full_test = train_test_split(data, test_size=0.2, random_state=1)\n",
    "df_full_train, df_full_val = train_test_split(df_full_train, test_size=0.25, random_state=1)\n",
    "\n",
    "# Now check overlap\n",
    "train_ids = set(df_full_train['row_id'])\n",
    "val_ids = set(df_full_val['row_id'])\n",
    "test_ids = set(df_full_test['row_id'])\n",
    "\n",
    "print('Overlap train/val:', len(train_ids & val_ids))\n",
    "print('Overlap train/test:', len(train_ids & test_ids))\n",
    "print('Overlap val/test:', len(val_ids & test_ids))"
   ],
   "outputs": [
    {
     "name": "stdout",
     "output_type": "stream",
     "text": [
      "Overlap train/val: 0\n",
      "Overlap train/test: 0\n",
      "Overlap val/test: 0\n"
     ]
    }
   ],
   "execution_count": 1
  }
 ],
 "metadata": {
  "kernelspec": {
   "display_name": "Python 3",
   "language": "python",
   "name": "python3"
  },
  "language_info": {
   "codemirror_mode": {
    "name": "ipython",
    "version": 2
   },
   "file_extension": ".py",
   "mimetype": "text/x-python",
   "name": "python",
   "nbconvert_exporter": "python",
   "pygments_lexer": "ipython2",
   "version": "2.7.6"
  }
 },
 "nbformat": 4,
 "nbformat_minor": 5
}
